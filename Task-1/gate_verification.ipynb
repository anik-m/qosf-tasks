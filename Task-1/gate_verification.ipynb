{
  "nbformat": 4,
  "nbformat_minor": 0,
  "metadata": {
    "colab": {
      "provenance": [],
      "machine_shape": "hm",
      "gpuType": "L4"
    },
    "kernelspec": {
      "name": "python3",
      "display_name": "Python 3"
    },
    "language_info": {
      "name": "python"
    },
    "accelerator": "GPU"
  },
  "cells": [
    {
      "cell_type": "code",
      "execution_count": null,
      "metadata": {
        "colab": {
          "base_uri": "https://localhost:8080/"
        },
        "id": "0aTdnzCR1BWL",
        "outputId": "c2f206b9-c627-45a1-d47a-0d900aef06ac"
      },
      "outputs": [
        {
          "output_type": "stream",
          "name": "stdout",
          "text": [
            "Requirement already satisfied: qiskit in /usr/local/lib/python3.12/dist-packages (2.2.1)\n",
            "Requirement already satisfied: rustworkx>=0.15.0 in /usr/local/lib/python3.12/dist-packages (from qiskit) (0.17.1)\n",
            "Requirement already satisfied: numpy<3,>=1.17 in /usr/local/lib/python3.12/dist-packages (from qiskit) (2.0.2)\n",
            "Requirement already satisfied: scipy>=1.5 in /usr/local/lib/python3.12/dist-packages (from qiskit) (1.16.2)\n",
            "Requirement already satisfied: dill>=0.3 in /usr/local/lib/python3.12/dist-packages (from qiskit) (0.3.8)\n",
            "Requirement already satisfied: stevedore>=3.0.0 in /usr/local/lib/python3.12/dist-packages (from qiskit) (5.5.0)\n",
            "Requirement already satisfied: typing-extensions in /usr/local/lib/python3.12/dist-packages (from qiskit) (4.15.0)\n"
          ]
        }
      ],
      "source": [
        "!pip install qiskit\n",
        "import numpy as np\n",
        "from qiskit import QuantumCircuit\n",
        "from qiskit.quantum_info import Operator\n"
      ]
    },
    {
      "cell_type": "code",
      "source": [
        "\n",
        "# --- 1. Define the Target (Toffoli Gate) ---\n",
        "# Get the 8x8 unitary matrix for a 3-qubit Toffoli (CCX) gate\n",
        "ccx_circuit = QuantumCircuit(3)\n",
        "ccx_circuit.ccx(0, 1, 2)\n",
        "target_op = Operator(ccx_circuit)\n"
      ],
      "metadata": {
        "id": "FCP6rkF818JQ"
      },
      "execution_count": null,
      "outputs": []
    },
    {
      "cell_type": "code",
      "source": [
        "\n",
        "# --- 2. Build Your Circuit with the Solution ---\n",
        "# Create a 3-qubit quantum circuit\n",
        "qc = QuantumCircuit(3)\n",
        "\n",
        "# Add the gates from the diagram, from left to right.\n",
        "\n",
        "# First ? gate (U_A) = H = U3(pi/2, 0, pi)\n",
        "qc.u(np.pi/2, 0, np.pi, 2)\n",
        "\n",
        "# Gates on q[0] and q[1]\n",
        "qc.t(0)\n",
        "qc.cx(0, 1)\n",
        "qc.tdg(1)\n",
        "qc.cx(0, 1)\n",
        "qc.t(1)\n",
        "\n",
        "# Central gates on q[2]\n",
        "qc.cx(1, 2)\n",
        "qc.tdg(2)\n",
        "qc.cx(0, 2)\n",
        "qc.t(2)\n",
        "qc.cx(1, 2)\n",
        "\n",
        "# Second ? gate (U_B) = Tdg = U3(0, 0, -pi/4)\n",
        "qc.u(0, 0, -np.pi/4, 2)\n",
        "\n",
        "# Final gates on q[2]\n",
        "qc.cx(0, 2)\n",
        "qc.t(2)\n",
        "qc.h(2)\n",
        "\n",
        "print(\"--- Circuit Diagram ---\")\n",
        "print(qc.draw(output='text'))\n",
        "print(\"-\" * 23)\n"
      ],
      "metadata": {
        "colab": {
          "base_uri": "https://localhost:8080/"
        },
        "id": "NuWRQNEO2CpH",
        "outputId": "4c4e6620-8647-45e8-d243-e6730d6d7a14"
      },
      "execution_count": null,
      "outputs": [
        {
          "output_type": "stream",
          "name": "stdout",
          "text": [
            "--- Circuit Diagram ---\n",
            "         ┌───┐                                                      »\n",
            "q_0: ────┤ T ├───────■───────────■─────────────────────■────────────»\n",
            "         └───┘     ┌─┴─┐┌─────┐┌─┴─┐┌───┐              │            »\n",
            "q_1: ──────────────┤ X ├┤ Tdg ├┤ X ├┤ T ├──■───────────┼─────────■──»\n",
            "     ┌────────────┐└───┘└─────┘└───┘└───┘┌─┴─┐┌─────┐┌─┴─┐┌───┐┌─┴─┐»\n",
            "q_2: ┤ U(π/2,0,π) ├──────────────────────┤ X ├┤ Tdg ├┤ X ├┤ T ├┤ X ├»\n",
            "     └────────────┘                      └───┘└─────┘└───┘└───┘└───┘»\n",
            "«                                   \n",
            "«q_0: ─────────────────■────────────\n",
            "«                      │            \n",
            "«q_1: ─────────────────┼────────────\n",
            "«     ┌─────────────┐┌─┴─┐┌───┐┌───┐\n",
            "«q_2: ┤ U(0,0,-π/4) ├┤ X ├┤ T ├┤ H ├\n",
            "«     └─────────────┘└───┘└───┘└───┘\n",
            "-----------------------\n"
          ]
        }
      ]
    },
    {
      "cell_type": "code",
      "source": [
        "\n",
        "# --- 3. Compare the Unitaries ---\n",
        "\n",
        "# Get the 8x8 unitary matrix of the circuit we just built\n",
        "circuit_op = Operator(qc)\n",
        "\n",
        "# Check for equivalence.\n",
        "# The .equiv() method correctly handles global phase differences (like -iX vs X)\n",
        "are_equivalent = target_op.equiv(circuit_op)\n",
        "\n",
        "print(f\"\\nTarget is a Toffoli (CCX) gate.\")\n",
        "print(f\"Our circuit is equivalent to the target: {are_equivalent}\")\n",
        "\n",
        "# You can also see the global phase difference\n",
        "if are_equivalent:\n",
        "    # Get the matrix data\n",
        "    target_matrix = target_op.data\n",
        "    circuit_matrix = circuit_op.data\n",
        "\n",
        "    # Find the phase of the first non-zero element to compare\n",
        "    # We look at the 6th row/col (index 5) for the flip, |110> -> |111>\n",
        "    phase_diff = np.angle(circuit_matrix[7, 6] / target_matrix[7, 6])\n",
        "\n",
        "    print(f\"The global phase difference is e^(j * {phase_diff:.4f})\")\n",
        "    print(f\"(This is approx. -i, as e^(-i*pi/2) = e^(j * -1.5708))\")"
      ],
      "metadata": {
        "colab": {
          "base_uri": "https://localhost:8080/"
        },
        "id": "xJ14AwoM2Gz7",
        "outputId": "11f10484-28d2-4db0-aae2-8d4c0342fa57"
      },
      "execution_count": null,
      "outputs": [
        {
          "output_type": "stream",
          "name": "stdout",
          "text": [
            "\n",
            "Target is a Toffoli (CCX) gate.\n",
            "Our circuit is equivalent to the target: True\n",
            "The global phase difference is e^(j * nan)\n",
            "(This is approx. -i, as e^(-i*pi/2) = e^(j * -1.5708))\n"
          ]
        },
        {
          "output_type": "stream",
          "name": "stderr",
          "text": [
            "/tmp/ipython-input-3236401249.py:21: RuntimeWarning: invalid value encountered in scalar divide\n",
            "  phase_diff = np.angle(circuit_matrix[7, 6] / target_matrix[7, 6])\n"
          ]
        }
      ]
    }
  ]
}