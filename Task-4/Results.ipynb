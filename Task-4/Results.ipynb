{
  "nbformat": 4,
  "nbformat_minor": 0,
  "metadata": {
    "colab": {
      "provenance": []
    },
    "kernelspec": {
      "name": "python3",
      "display_name": "Python 3"
    },
    "language_info": {
      "name": "python"
    }
  },
  "cells": [
    {
      "cell_type": "code",
      "execution_count": 1,
      "metadata": {
        "colab": {
          "base_uri": "https://localhost:8080/"
        },
        "id": "s7PqCFVfOSKw",
        "outputId": "f0bc02ba-6128-4616-f398-bb7773778735"
      },
      "outputs": [
        {
          "output_type": "stream",
          "name": "stdout",
          "text": [
            "/content/drive/MyDrive/qml-qosf\n"
          ]
        }
      ],
      "source": [
        "cd /content/drive/MyDrive/qml-qosf"
      ]
    },
    {
      "cell_type": "code",
      "source": [
        "!pip install qiskit qiskit_aer qiskit_machine_learning"
      ],
      "metadata": {
        "colab": {
          "base_uri": "https://localhost:8080/"
        },
        "id": "Df7kyl9iOz_3",
        "outputId": "df06ce66-bf67-4202-cfb6-e10bae3030cf"
      },
      "execution_count": 7,
      "outputs": [
        {
          "output_type": "stream",
          "name": "stdout",
          "text": [
            "Requirement already satisfied: qiskit in /usr/local/lib/python3.12/dist-packages (2.2.1)\n",
            "Requirement already satisfied: qiskit_aer in /usr/local/lib/python3.12/dist-packages (0.17.2)\n",
            "Collecting qiskit_machine_learning\n",
            "  Downloading qiskit_machine_learning-0.8.4-py3-none-any.whl.metadata (13 kB)\n",
            "Requirement already satisfied: rustworkx>=0.15.0 in /usr/local/lib/python3.12/dist-packages (from qiskit) (0.17.1)\n",
            "Requirement already satisfied: numpy<3,>=1.17 in /usr/local/lib/python3.12/dist-packages (from qiskit) (2.0.2)\n",
            "Requirement already satisfied: scipy>=1.5 in /usr/local/lib/python3.12/dist-packages (from qiskit) (1.16.2)\n",
            "Requirement already satisfied: dill>=0.3 in /usr/local/lib/python3.12/dist-packages (from qiskit) (0.3.8)\n",
            "Requirement already satisfied: stevedore>=3.0.0 in /usr/local/lib/python3.12/dist-packages (from qiskit) (5.5.0)\n",
            "Requirement already satisfied: typing-extensions in /usr/local/lib/python3.12/dist-packages (from qiskit) (4.15.0)\n",
            "Requirement already satisfied: psutil>=5 in /usr/local/lib/python3.12/dist-packages (from qiskit_aer) (5.9.5)\n",
            "Requirement already satisfied: python-dateutil>=2.8.0 in /usr/local/lib/python3.12/dist-packages (from qiskit_aer) (2.9.0.post0)\n",
            "Collecting qiskit\n",
            "  Downloading qiskit-1.4.5-cp39-abi3-manylinux_2_17_x86_64.manylinux2014_x86_64.whl.metadata (12 kB)\n",
            "Collecting scipy>=1.5 (from qiskit)\n",
            "  Downloading scipy-1.15.3-cp312-cp312-manylinux_2_17_x86_64.manylinux2014_x86_64.whl.metadata (61 kB)\n",
            "\u001b[2K     \u001b[90m━━━━━━━━━━━━━━━━━━━━━━━━━━━━━━━━━━━━━━━━\u001b[0m \u001b[32m62.0/62.0 kB\u001b[0m \u001b[31m2.1 MB/s\u001b[0m eta \u001b[36m0:00:00\u001b[0m\n",
            "\u001b[?25hRequirement already satisfied: scikit-learn>=1.2 in /usr/local/lib/python3.12/dist-packages (from qiskit_machine_learning) (1.6.1)\n",
            "Requirement already satisfied: setuptools>=40.1 in /usr/local/lib/python3.12/dist-packages (from qiskit_machine_learning) (75.2.0)\n",
            "Requirement already satisfied: sympy>=1.3 in /usr/local/lib/python3.12/dist-packages (from qiskit) (1.13.3)\n",
            "Collecting symengine<0.14,>=0.11 (from qiskit)\n",
            "  Downloading symengine-0.13.0-cp312-cp312-manylinux_2_17_x86_64.manylinux2014_x86_64.whl.metadata (1.2 kB)\n",
            "Requirement already satisfied: six>=1.5 in /usr/local/lib/python3.12/dist-packages (from python-dateutil>=2.8.0->qiskit_aer) (1.17.0)\n",
            "Requirement already satisfied: joblib>=1.2.0 in /usr/local/lib/python3.12/dist-packages (from scikit-learn>=1.2->qiskit_machine_learning) (1.5.2)\n",
            "Requirement already satisfied: threadpoolctl>=3.1.0 in /usr/local/lib/python3.12/dist-packages (from scikit-learn>=1.2->qiskit_machine_learning) (3.6.0)\n",
            "Requirement already satisfied: mpmath<1.4,>=1.1.0 in /usr/local/lib/python3.12/dist-packages (from sympy>=1.3->qiskit) (1.3.0)\n",
            "Downloading qiskit_machine_learning-0.8.4-py3-none-any.whl (231 kB)\n",
            "\u001b[2K   \u001b[90m━━━━━━━━━━━━━━━━━━━━━━━━━━━━━━━━━━━━━━━━\u001b[0m \u001b[32m231.9/231.9 kB\u001b[0m \u001b[31m7.5 MB/s\u001b[0m eta \u001b[36m0:00:00\u001b[0m\n",
            "\u001b[?25hDownloading qiskit-1.4.5-cp39-abi3-manylinux_2_17_x86_64.manylinux2014_x86_64.whl (6.8 MB)\n",
            "\u001b[2K   \u001b[90m━━━━━━━━━━━━━━━━━━━━━━━━━━━━━━━━━━━━━━━━\u001b[0m \u001b[32m6.8/6.8 MB\u001b[0m \u001b[31m65.6 MB/s\u001b[0m eta \u001b[36m0:00:00\u001b[0m\n",
            "\u001b[?25hDownloading scipy-1.15.3-cp312-cp312-manylinux_2_17_x86_64.manylinux2014_x86_64.whl (37.3 MB)\n",
            "\u001b[2K   \u001b[90m━━━━━━━━━━━━━━━━━━━━━━━━━━━━━━━━━━━━━━━━\u001b[0m \u001b[32m37.3/37.3 MB\u001b[0m \u001b[31m25.2 MB/s\u001b[0m eta \u001b[36m0:00:00\u001b[0m\n",
            "\u001b[?25hDownloading symengine-0.13.0-cp312-cp312-manylinux_2_17_x86_64.manylinux2014_x86_64.whl (49.6 MB)\n",
            "\u001b[2K   \u001b[90m━━━━━━━━━━━━━━━━━━━━━━━━━━━━━━━━━━━━━━━━\u001b[0m \u001b[32m49.6/49.6 MB\u001b[0m \u001b[31m11.3 MB/s\u001b[0m eta \u001b[36m0:00:00\u001b[0m\n",
            "\u001b[?25hInstalling collected packages: symengine, scipy, qiskit, qiskit_machine_learning\n",
            "  Attempting uninstall: scipy\n",
            "    Found existing installation: scipy 1.16.2\n",
            "    Uninstalling scipy-1.16.2:\n",
            "      Successfully uninstalled scipy-1.16.2\n",
            "  Attempting uninstall: qiskit\n",
            "    Found existing installation: qiskit 2.2.1\n",
            "    Uninstalling qiskit-2.2.1:\n",
            "      Successfully uninstalled qiskit-2.2.1\n",
            "Successfully installed qiskit-1.4.5 qiskit_machine_learning-0.8.4 scipy-1.15.3 symengine-0.13.0\n"
          ]
        }
      ]
    },
    {
      "cell_type": "code",
      "source": [
        "!python  qmlcircuit1-twolocal.py"
      ],
      "metadata": {
        "colab": {
          "base_uri": "https://localhost:8080/"
        },
        "id": "Dek-mw2iO5k2",
        "outputId": "ba705699-34b6-467d-c3cb-8f414d8e9443"
      },
      "execution_count": 8,
      "outputs": [
        {
          "output_type": "stream",
          "name": "stdout",
          "text": [
            "Original data shape (Versicolor vs Virginica): (100, 4)\n",
            "Labels: [0 1]\n",
            "------------------------------------------------------------\n",
            "Running Proposal A (2-Qubit, PCA)...\n",
            "Training Proposal A...\n",
            "Accuracy Proposal A (2-Qubit, PCA): 0.5000\n",
            "------------------------------------------------------------\n",
            "Running Proposal B (4-Qubit, All Features)...\n",
            "Training Proposal B...\n",
            "Accuracy Proposal B (4-Qubit, All Features): 0.7667\n",
            "------------------------------------------------------------\n",
            "\n",
            "Final Results (Versicolor vs Virginica):\n",
            "Proposal A (2-Qubit, PCA): 0.5000\n",
            "Proposal B (4-Qubit, All Features): 0.7667\n"
          ]
        }
      ]
    },
    {
      "cell_type": "code",
      "source": [
        "!python  qmlcircuit-other-circuits.py"
      ],
      "metadata": {
        "colab": {
          "base_uri": "https://localhost:8080/"
        },
        "id": "QQy_lfzOPMcQ",
        "outputId": "696c7fef-4924-48fd-9119-3d0acea8ed9a"
      },
      "execution_count": 9,
      "outputs": [
        {
          "output_type": "stream",
          "name": "stdout",
          "text": [
            "Preparing data (Versicolor vs Virginica, 4 features)...\n",
            "Training on 70 samples, testing on 30 samples.\n",
            "\n",
            "---\n",
            "---\n",
            "---\n",
            "---\n",
            "---\n",
            "---\n",
            "---\n",
            "---\n",
            "---\n",
            "---\n",
            "---\n",
            "---\n",
            "---\n",
            "---\n",
            "---\n",
            "---\n",
            "---\n",
            "---\n",
            "---\n",
            "---\n",
            "Starting Model Bake-Off...\n",
            "\n",
            "Training Model 1. TwoLocal (Circular)...\n",
            "Score: 0.7333 (Training time: 308.38s)\n",
            "\n",
            "Training Model 2. EfficientSU2 (Circular)...\n",
            "Score: 0.7667 (Training time: 235.80s)\n",
            "\n",
            "Training Model 3. TwoLocal (SCA)...\n",
            "Score: 0.8000 (Training time: 345.35s)\n",
            "\n",
            "Training Model 4. TwoLocal (RZZ Entangler)...\n",
            "Score: 0.9333 (Training time: 395.97s)\n",
            "\n",
            "Training Model 5. RealAmplitudes (Circular)...\n",
            "Score: 0.6000 (Training time: 111.33s)\n",
            "\n",
            "---\n",
            "---\n",
            "---\n",
            "---\n",
            "---\n",
            "---\n",
            "---\n",
            "---\n",
            "---\n",
            "---\n",
            "---\n",
            "---\n",
            "---\n",
            "---\n",
            "---\n",
            "---\n",
            "---\n",
            "---\n",
            "---\n",
            "---\n",
            "Final Model Comparison (Versicolor vs Virginica):\n",
            "------------------------------------------------------------\n",
            "- 1. TwoLocal (Circular): 0.7333\n",
            "- 2. EfficientSU2 (Circular): 0.7667\n",
            "- 3. TwoLocal (SCA): 0.8000\n",
            "- 4. TwoLocal (RZZ Entangler): 0.9333\n",
            "- 5. RealAmplitudes (Circular): 0.6000\n"
          ]
        }
      ]
    }
  ]
}